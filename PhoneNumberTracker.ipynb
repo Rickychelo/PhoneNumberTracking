{
  "nbformat": 4,
  "nbformat_minor": 0,
  "metadata": {
    "colab": {
      "provenance": []
    },
    "kernelspec": {
      "name": "python3",
      "display_name": "Python 3"
    },
    "language_info": {
      "name": "python"
    }
  },
  "cells": [
    {
      "cell_type": "code",
      "source": [
        "pip install phonenumbers"
      ],
      "metadata": {
        "colab": {
          "base_uri": "https://localhost:8080/"
        },
        "id": "CS_DVk6jTqMo",
        "outputId": "98872e3a-165c-4692-acc0-ef06ed5eb404"
      },
      "execution_count": 2,
      "outputs": [
        {
          "output_type": "stream",
          "name": "stdout",
          "text": [
            "Collecting phonenumbers\n",
            "  Downloading phonenumbers-8.13.29-py2.py3-none-any.whl (2.6 MB)\n",
            "\u001b[2K     \u001b[90m━━━━━━━━━━━━━━━━━━━━━━━━━━━━━━━━━━━━━━━━\u001b[0m \u001b[32m2.6/2.6 MB\u001b[0m \u001b[31m24.5 MB/s\u001b[0m eta \u001b[36m0:00:00\u001b[0m\n",
            "\u001b[?25hInstalling collected packages: phonenumbers\n",
            "Successfully installed phonenumbers-8.13.29\n"
          ]
        }
      ]
    },
    {
      "cell_type": "code",
      "source": [
        "pip install geocoder"
      ],
      "metadata": {
        "colab": {
          "base_uri": "https://localhost:8080/"
        },
        "id": "WXchsvOXTwfu",
        "outputId": "78e891b3-b5f1-4d48-9246-5b97de37bef8"
      },
      "execution_count": 3,
      "outputs": [
        {
          "output_type": "stream",
          "name": "stdout",
          "text": [
            "Requirement already satisfied: geocoder in /usr/local/lib/python3.10/dist-packages (1.38.1)\n",
            "Requirement already satisfied: click in /usr/local/lib/python3.10/dist-packages (from geocoder) (8.1.7)\n",
            "Requirement already satisfied: future in /usr/local/lib/python3.10/dist-packages (from geocoder) (0.18.3)\n",
            "Requirement already satisfied: ratelim in /usr/local/lib/python3.10/dist-packages (from geocoder) (0.1.6)\n",
            "Requirement already satisfied: requests in /usr/local/lib/python3.10/dist-packages (from geocoder) (2.31.0)\n",
            "Requirement already satisfied: six in /usr/local/lib/python3.10/dist-packages (from geocoder) (1.16.0)\n",
            "Requirement already satisfied: decorator in /usr/local/lib/python3.10/dist-packages (from ratelim->geocoder) (4.4.2)\n",
            "Requirement already satisfied: charset-normalizer<4,>=2 in /usr/local/lib/python3.10/dist-packages (from requests->geocoder) (3.3.2)\n",
            "Requirement already satisfied: idna<4,>=2.5 in /usr/local/lib/python3.10/dist-packages (from requests->geocoder) (3.6)\n",
            "Requirement already satisfied: urllib3<3,>=1.21.1 in /usr/local/lib/python3.10/dist-packages (from requests->geocoder) (2.0.7)\n",
            "Requirement already satisfied: certifi>=2017.4.17 in /usr/local/lib/python3.10/dist-packages (from requests->geocoder) (2023.11.17)\n"
          ]
        }
      ]
    },
    {
      "cell_type": "code",
      "source": [
        "import phonenumbers\n",
        "from phonenumbers import geocoder"
      ],
      "metadata": {
        "id": "x7A9vHfYT1hr"
      },
      "execution_count": 11,
      "outputs": []
    },
    {
      "cell_type": "code",
      "source": [
        "def obtener_ubicacion(numero):\n",
        "    try:\n",
        "        phone_number = phonenumbers.parse(numero)\n",
        "        ubicacion = geocoder.description_for_number(phone_number, \"es\")\n",
        "        return ubicacion\n",
        "    except phonenumbers.NumberParseException as e:\n",
        "        return f\"No se pudo obtener la ubicación. Error: {e}\""
      ],
      "metadata": {
        "id": "61H5aMZGUl1x"
      },
      "execution_count": 12,
      "outputs": []
    },
    {
      "cell_type": "code",
      "source": [
        "phone_number1 = phonenumbers.parse(\"+593962743656\")\n",
        "numero_telefono = \"+18624068315\""
      ],
      "metadata": {
        "id": "7qp8mY7IT2sz"
      },
      "execution_count": 20,
      "outputs": []
    },
    {
      "cell_type": "code",
      "source": [
        "print(\"\\nPhone Number Location\")\n",
        "print(f\"Phone Number {phone_number1} \"+ geocoder.description_for_number(phone_number1, \"en\"))"
      ],
      "metadata": {
        "colab": {
          "base_uri": "https://localhost:8080/"
        },
        "id": "ZlXfZCJtVH7s",
        "outputId": "d64a944a-93c8-41c7-ace7-8ece3c1fd5ba"
      },
      "execution_count": 27,
      "outputs": [
        {
          "output_type": "stream",
          "name": "stdout",
          "text": [
            "\n",
            "Phone Number Location\n",
            "Phone Number Country Code: 593 National Number: 962743656 Ecuador\n"
          ]
        }
      ]
    },
    {
      "cell_type": "code",
      "source": [
        "ubicacion = obtener_ubicacion(numero_telefono)\n",
        "print(f\"\\nUbicación del número {numero_telefono}: {ubicacion}\")\n"
      ],
      "metadata": {
        "colab": {
          "base_uri": "https://localhost:8080/"
        },
        "id": "Cgakghf1UDQJ",
        "outputId": "bbf396eb-6db9-4bd0-d946-6ba917874dab"
      },
      "execution_count": 28,
      "outputs": [
        {
          "output_type": "stream",
          "name": "stdout",
          "text": [
            "\n",
            "Ubicación del número +18624068315: New Jersey\n"
          ]
        }
      ]
    }
  ]
}